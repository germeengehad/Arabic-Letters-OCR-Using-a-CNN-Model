{
  "metadata": {
    "kernelspec": {
      "language": "python",
      "display_name": "Python 3",
      "name": "python3"
    },
    "language_info": {
      "name": "python",
      "version": "3.10.13",
      "mimetype": "text/x-python",
      "codemirror_mode": {
        "name": "ipython",
        "version": 3
      },
      "pygments_lexer": "ipython3",
      "nbconvert_exporter": "python",
      "file_extension": ".py"
    },
    "kaggle": {
      "accelerator": "nvidiaTeslaT4",
      "dataSources": [
        {
          "sourceId": 4415328,
          "sourceType": "datasetVersion",
          "datasetId": 2581405
        },
        {
          "sourceId": 7680821,
          "sourceType": "datasetVersion",
          "datasetId": 4481164
        },
        {
          "sourceId": 7680941,
          "sourceType": "datasetVersion",
          "datasetId": 4481226
        },
        {
          "sourceId": 7685987,
          "sourceType": "datasetVersion",
          "datasetId": 4484966
        },
        {
          "sourceId": 7685998,
          "sourceType": "datasetVersion",
          "datasetId": 4484974
        },
        {
          "sourceId": 7686016,
          "sourceType": "datasetVersion",
          "datasetId": 4484990
        }
      ],
      "dockerImageVersionId": 30646,
      "isInternetEnabled": true,
      "language": "python",
      "sourceType": "notebook",
      "isGpuEnabled": true
    },
    "colab": {
      "provenance": []
    }
  },
  "nbformat_minor": 0,
  "nbformat": 4,
  "cells": [
    {
      "cell_type": "markdown",
      "source": [
        "# The Link Of The Data Set And The Competition On Kaggle\n",
        "https://www.kaggle.com/datasets/mahmoudreda55/arabic-letters-numbers-ocr"
      ],
      "metadata": {
        "id": "jfEL0szr_9hu"
      }
    },
    {
      "cell_type": "markdown",
      "source": [
        "# Import the libraries"
      ],
      "metadata": {
        "id": "e5WcZKoD-QtE"
      }
    },
    {
      "cell_type": "code",
      "source": [
        "import tensorflow as tf\n",
        "from keras.preprocessing.image import ImageDataGenerator\n",
        "from tensorflow.keras.preprocessing import image_dataset_from_directory ,image\n",
        "import keras\n",
        "from PIL import Image\n",
        "import pandas as pd\n",
        "import seaborn\n",
        "import os\n",
        "from tensorflow.keras.layers import Dropout\n",
        "import pickle\n",
        "import matplotlib.pyplot as plt\n",
        "import numpy as np\n",
        "from tensorflow.keras import layers, models\n",
        "import shutil"
      ],
      "metadata": {
        "execution": {
          "iopub.status.busy": "2024-02-27T19:47:43.736284Z",
          "iopub.execute_input": "2024-02-27T19:47:43.736784Z",
          "iopub.status.idle": "2024-02-27T19:47:58.985596Z",
          "shell.execute_reply.started": "2024-02-27T19:47:43.736743Z",
          "shell.execute_reply": "2024-02-27T19:47:58.984757Z"
        },
        "trusted": true,
        "id": "fVMrSIbD-QtG",
        "outputId": "be1d3140-a600-43c7-db81-1e2f78188f0a"
      },
      "execution_count": null,
      "outputs": [
        {
          "name": "stderr",
          "text": "2024-02-27 19:47:45.946351: E external/local_xla/xla/stream_executor/cuda/cuda_dnn.cc:9261] Unable to register cuDNN factory: Attempting to register factory for plugin cuDNN when one has already been registered\n2024-02-27 19:47:45.946453: E external/local_xla/xla/stream_executor/cuda/cuda_fft.cc:607] Unable to register cuFFT factory: Attempting to register factory for plugin cuFFT when one has already been registered\n2024-02-27 19:47:46.137973: E external/local_xla/xla/stream_executor/cuda/cuda_blas.cc:1515] Unable to register cuBLAS factory: Attempting to register factory for plugin cuBLAS when one has already been registered\n",
          "output_type": "stream"
        }
      ]
    },
    {
      "cell_type": "markdown",
      "source": [
        "# Prepare the data"
      ],
      "metadata": {
        "id": "3Cr2Z9vx-QtH"
      }
    },
    {
      "cell_type": "markdown",
      "source": [
        "## Data augmentation"
      ],
      "metadata": {
        "id": "SYpZO43H-QtI"
      }
    },
    {
      "cell_type": "code",
      "source": [
        "data_datagen = ImageDataGenerator(\n",
        "    rescale=1. / 255,rotation_range=10, fill_mode='nearest',\n",
        "     featurewise_center=True,\n",
        "    featurewise_std_normalization=True,\n",
        "    vertical_flip= True,\n",
        "    shear_range=0.2,\n",
        "    zoom_range=0.2,\n",
        "    brightness_range = (0.4,0.6),\n",
        "    horizontal_flip=True,validation_split=0.3)"
      ],
      "metadata": {
        "execution": {
          "iopub.status.busy": "2024-02-27T19:49:03.850569Z",
          "iopub.execute_input": "2024-02-27T19:49:03.851280Z",
          "iopub.status.idle": "2024-02-27T19:49:03.857300Z",
          "shell.execute_reply.started": "2024-02-27T19:49:03.851246Z",
          "shell.execute_reply": "2024-02-27T19:49:03.856108Z"
        },
        "trusted": true,
        "id": "zAJhTWFr-QtI"
      },
      "execution_count": null,
      "outputs": []
    },
    {
      "cell_type": "code",
      "source": [
        "#show the class inside the sets\n",
        "data_dir = ('../input/arabic-letters-numbers-ocr/Dataset')\n",
        "classes_data =os.listdir(data_dir)\n",
        "classes_data"
      ],
      "metadata": {
        "execution": {
          "iopub.status.busy": "2024-02-27T19:49:09.987314Z",
          "iopub.execute_input": "2024-02-27T19:49:09.987706Z",
          "iopub.status.idle": "2024-02-27T19:49:10.016871Z",
          "shell.execute_reply.started": "2024-02-27T19:49:09.987675Z",
          "shell.execute_reply": "2024-02-27T19:49:10.015980Z"
        },
        "trusted": true,
        "id": "M_7uu76I-QtI",
        "outputId": "38baebc9-a5ff-4443-85e0-103256f786b6"
      },
      "execution_count": null,
      "outputs": [
        {
          "execution_count": 3,
          "output_type": "execute_result",
          "data": {
            "text/plain": "['س',\n 'و',\n 'ظ',\n 'ط',\n 'غ',\n 'ف',\n 'ا',\n '٣',\n 'ض',\n 'ث',\n 'ذ',\n '٩',\n 'ق',\n '١',\n 'ش',\n '٤',\n 'ص',\n 'ب',\n '٥',\n 'ت',\n 'لا',\n '٠',\n 'ي',\n 'ج',\n 'ح',\n 'خ',\n '٧',\n 'ز',\n '٨',\n 'ه',\n 'د',\n '٢',\n 'ك',\n 'م',\n 'ر',\n 'ل',\n 'ن',\n '٦',\n 'ع']"
          },
          "metadata": {}
        }
      ]
    },
    {
      "cell_type": "markdown",
      "source": [
        "## Creat a new dataset for letters only"
      ],
      "metadata": {
        "id": "6__knwyw-QtI"
      }
    },
    {
      "cell_type": "code",
      "source": [
        "# Path to the read-only directory containing class folders\n",
        "readonly_dataset_dir = \"../input/arabic-letters-numbers-ocr/Dataset\"\n",
        "\n",
        "# Path to the new directory where you want to copy the classes\n",
        "new_dataset_dir = \"new_dataset\"\n",
        "\n",
        "# List of classes to delete\n",
        "classes_to_delete = ['٣', '٩', '١', '٤', '٥', '٠', '٧', '٨',  '٢', '٦']\n",
        "\n",
        "# Create the new directory if it doesn't exist\n",
        "if not os.path.exists(new_dataset_dir):\n",
        "    os.makedirs(new_dataset_dir)\n",
        "\n",
        "# Iterate through each class folder in the read-only directory\n",
        "for class_name in os.listdir(readonly_dataset_dir):\n",
        "    class_path = os.path.join(readonly_dataset_dir, class_name)\n",
        "\n",
        "    # Check if it is a directory\n",
        "    if os.path.isdir(class_path):\n",
        "        # Check if the class should be kept\n",
        "        if class_name not in classes_to_delete:\n",
        "            # Check if the class folder already exists in the new directory\n",
        "            new_class_path = os.path.join(new_dataset_dir, class_name)\n",
        "            if not os.path.exists(new_class_path):\n",
        "                # Copy the class folder and its contents to the new directory\n",
        "                shutil.copytree(class_path, new_class_path)\n",
        "                print(f\"Copied class '{class_name}'.\")\n",
        "            else:\n",
        "                print(f\"Class '{class_name}' already exists in the new dataset. Skipping...\")\n",
        "    else:\n",
        "        print(f\"'{class_path}' is not a directory.\")\n",
        "\n"
      ],
      "metadata": {
        "execution": {
          "iopub.status.busy": "2024-02-27T19:49:15.744400Z",
          "iopub.execute_input": "2024-02-27T19:49:15.744831Z",
          "iopub.status.idle": "2024-02-27T19:59:01.148185Z",
          "shell.execute_reply.started": "2024-02-27T19:49:15.744801Z",
          "shell.execute_reply": "2024-02-27T19:59:01.147257Z"
        },
        "trusted": true,
        "id": "7fWGqqPL-QtI",
        "outputId": "00708f12-6e9d-438b-af1b-775eed94e09e"
      },
      "execution_count": null,
      "outputs": [
        {
          "name": "stdout",
          "text": "Copied class 'س'.\nCopied class 'و'.\nCopied class 'ظ'.\nCopied class 'ط'.\nCopied class 'غ'.\nCopied class 'ف'.\nCopied class 'ا'.\nCopied class 'ض'.\nCopied class 'ث'.\nCopied class 'ذ'.\nCopied class 'ق'.\nCopied class 'ش'.\nCopied class 'ص'.\nCopied class 'ب'.\nCopied class 'ت'.\nCopied class 'لا'.\nCopied class 'ي'.\nCopied class 'ج'.\nCopied class 'ح'.\nCopied class 'خ'.\nCopied class 'ز'.\nCopied class 'ه'.\nCopied class 'د'.\nCopied class 'ك'.\nCopied class 'م'.\nCopied class 'ر'.\nCopied class 'ل'.\nCopied class 'ن'.\nCopied class 'ع'.\n",
          "output_type": "stream"
        }
      ]
    },
    {
      "cell_type": "code",
      "source": [
        "# Assuming you have a directory containing subdirectories for each class\n",
        "dataset_dir = '/kaggle/working/new_dataset'  # Replace 'path/to/dataset' with the actual path to your dataset directory\n",
        "\n",
        "# Get the list of class labels (directory names)\n",
        "class_labels = sorted(os.listdir(dataset_dir))\n",
        "\n",
        "# Print all class labels\n",
        "for idx, label in enumerate(class_labels):\n",
        "    print(f\"Class {idx}: {label}\")\n"
      ],
      "metadata": {
        "execution": {
          "iopub.status.busy": "2024-02-23T13:24:00.837967Z",
          "iopub.execute_input": "2024-02-23T13:24:00.838297Z",
          "iopub.status.idle": "2024-02-23T13:24:00.844715Z",
          "shell.execute_reply.started": "2024-02-23T13:24:00.838271Z",
          "shell.execute_reply": "2024-02-23T13:24:00.843827Z"
        },
        "trusted": true,
        "id": "c6F3m_5P-QtJ",
        "outputId": "7916e717-fa04-4c76-ff69-83ef120d019a"
      },
      "execution_count": null,
      "outputs": [
        {
          "name": "stdout",
          "text": "Class 0: ا\nClass 1: ب\nClass 2: ت\nClass 3: ث\nClass 4: ج\nClass 5: ح\nClass 6: خ\nClass 7: د\nClass 8: ذ\nClass 9: ر\nClass 10: ز\nClass 11: س\nClass 12: ش\nClass 13: ص\nClass 14: ض\nClass 15: ط\nClass 16: ظ\nClass 17: ع\nClass 18: غ\nClass 19: ف\nClass 20: ق\nClass 21: ك\nClass 22: ل\nClass 23: لا\nClass 24: م\nClass 25: ن\nClass 26: ه\nClass 27: و\nClass 28: ي\n",
          "output_type": "stream"
        }
      ]
    },
    {
      "cell_type": "markdown",
      "source": [
        "## Ensure from the classes in the new dataset"
      ],
      "metadata": {
        "id": "-Yz6nESj-QtJ"
      }
    },
    {
      "cell_type": "code",
      "source": [
        "# Path to the new dataset directory\n",
        "new_dataset_dir = \"new_dataset\"\n",
        "\n",
        "# Initialize a counter for the classes\n",
        "class_count = 0\n",
        "\n",
        "# Iterate through each item in the new dataset directory\n",
        "for item in os.listdir(new_dataset_dir):\n",
        "    item_path = os.path.join(new_dataset_dir, item)\n",
        "\n",
        "    # Check if the item is a directory\n",
        "    if os.path.isdir(item_path):\n",
        "        class_count += 1\n",
        "\n",
        "# Print the total number of classes\n",
        "print(f\"Total number of classes in the new dataset: {class_count}\")\n"
      ],
      "metadata": {
        "execution": {
          "iopub.status.busy": "2024-02-27T19:59:08.280687Z",
          "iopub.execute_input": "2024-02-27T19:59:08.281505Z",
          "iopub.status.idle": "2024-02-27T19:59:08.287813Z",
          "shell.execute_reply.started": "2024-02-27T19:59:08.281474Z",
          "shell.execute_reply": "2024-02-27T19:59:08.286938Z"
        },
        "trusted": true,
        "id": "I7MZ2kdj-QtJ",
        "outputId": "898e09cb-7273-45af-8a5e-abba50c2f66f"
      },
      "execution_count": null,
      "outputs": [
        {
          "name": "stdout",
          "text": "Total number of classes in the new dataset: 29\n",
          "output_type": "stream"
        }
      ]
    },
    {
      "cell_type": "markdown",
      "source": [
        "## Seprate the data to train and validation"
      ],
      "metadata": {
        "id": "4hfP3b6I-QtK"
      }
    },
    {
      "cell_type": "code",
      "source": [
        "train_generator = data_datagen.flow_from_directory(\n",
        "    'new_dataset',\n",
        "    target_size=(32, 32),\n",
        "    batch_size=32,subset='training',\n",
        "    class_mode='sparse'\n",
        "  )\n"
      ],
      "metadata": {
        "execution": {
          "iopub.status.busy": "2024-02-27T19:59:17.093727Z",
          "iopub.execute_input": "2024-02-27T19:59:17.094391Z",
          "iopub.status.idle": "2024-02-27T19:59:20.727120Z",
          "shell.execute_reply.started": "2024-02-27T19:59:17.094362Z",
          "shell.execute_reply": "2024-02-27T19:59:20.726347Z"
        },
        "trusted": true,
        "id": "nszoUA86-QtK",
        "outputId": "3fd22442-f4ab-4d2f-dd7d-c5a614eccd55"
      },
      "execution_count": null,
      "outputs": [
        {
          "name": "stdout",
          "text": "Found 50373 images belonging to 29 classes.\n",
          "output_type": "stream"
        }
      ]
    },
    {
      "cell_type": "code",
      "source": [
        "val_generator = data_datagen.flow_from_directory(\n",
        "     'new_dataset',\n",
        "    target_size=(32, 32),\n",
        "    batch_size=32,subset='validation',\n",
        "    class_mode='sparse'\n",
        "  )"
      ],
      "metadata": {
        "execution": {
          "iopub.status.busy": "2024-02-27T19:59:23.571805Z",
          "iopub.execute_input": "2024-02-27T19:59:23.572353Z",
          "iopub.status.idle": "2024-02-27T19:59:25.509759Z",
          "shell.execute_reply.started": "2024-02-27T19:59:23.572322Z",
          "shell.execute_reply": "2024-02-27T19:59:25.508941Z"
        },
        "trusted": true,
        "id": "OnA9uWPA-QtK",
        "outputId": "3219a81c-108f-4782-9265-ca29d036ce34"
      },
      "execution_count": null,
      "outputs": [
        {
          "name": "stdout",
          "text": "Found 21576 images belonging to 29 classes.\n",
          "output_type": "stream"
        }
      ]
    },
    {
      "cell_type": "markdown",
      "source": [
        "## show the data"
      ],
      "metadata": {
        "id": "7xbqi2B8-QtL"
      }
    },
    {
      "cell_type": "code",
      "source": [
        "dataset = image_dataset_from_directory('new_dataset',\n",
        "                                             shuffle=True,\n",
        "                                             batch_size=32,image_size=(32,23))\n",
        "class_name =  dataset.class_names\n",
        "plt.figure(figsize = (10,10))\n",
        "for image , label in dataset.take(1):\n",
        "    for i in range(9) :\n",
        "        plt.subplot(3,3,i+1)\n",
        "        plt.imshow(image[i].numpy().astype(\"uint8\"))\n",
        "        plt.title(class_name[label[i]])\n",
        "        plt.axis(\"off\")"
      ],
      "metadata": {
        "execution": {
          "iopub.status.busy": "2024-02-27T19:59:28.572552Z",
          "iopub.execute_input": "2024-02-27T19:59:28.573395Z",
          "iopub.status.idle": "2024-02-27T19:59:38.635775Z",
          "shell.execute_reply.started": "2024-02-27T19:59:28.573365Z",
          "shell.execute_reply": "2024-02-27T19:59:38.634845Z"
        },
        "trusted": true,
        "id": "IunIYK1H-QtL",
        "outputId": "d3d4c4c3-9235-4f65-bc6f-6036f9477cfd"
      },
      "execution_count": null,
      "outputs": [
        {
          "name": "stdout",
          "text": "Found 71949 files belonging to 29 classes.\n",
          "output_type": "stream"
        },
        {
          "output_type": "display_data",
          "data": {
            "text/plain": "<Figure size 1000x1000 with 9 Axes>",
            "image/png": "[encoded data removed]"
          },
          "metadata": {}
        }
      ]
    },
    {
      "cell_type": "markdown",
      "source": [
        "# Creat a CNN model"
      ],
      "metadata": {
        "id": "0eCNQKVF-QtL"
      }
    },
    {
      "cell_type": "code",
      "source": [
        "# Set random seed for reproducibility\n",
        "tf.random.set_seed(45)\n",
        "np.random.seed(45)\n",
        "\n",
        "# Define the model architecture\n",
        "model = models.Sequential([\n",
        "    layers.Conv2D(32, (3, 3), activation='relu', input_shape=(32, 32, 3)),\n",
        "    layers.MaxPooling2D((2, 2)),\n",
        "    layers.Conv2D(64, (3, 3), activation='relu'),\n",
        "    layers.MaxPooling2D((2, 2)),\n",
        "    layers.Conv2D(64, (3, 3), activation='relu'),\n",
        "    layers.Flatten(),\n",
        "    layers.Dense(64, activation='relu'),\n",
        "    layers.Dense(29, activation='softmax')  # 29 output classes for the 29 Arabic letters\n",
        "])\n",
        "\n",
        "# Compile the model\n",
        "model.compile(optimizer='adam',\n",
        "              loss='sparse_categorical_crossentropy',\n",
        "              metrics=['accuracy'])\n",
        "\n",
        "# Display the model summary\n",
        "model.summary()\n"
      ],
      "metadata": {
        "execution": {
          "iopub.status.busy": "2024-02-27T19:59:45.914801Z",
          "iopub.execute_input": "2024-02-27T19:59:45.915183Z",
          "iopub.status.idle": "2024-02-27T19:59:46.101273Z",
          "shell.execute_reply.started": "2024-02-27T19:59:45.915155Z",
          "shell.execute_reply": "2024-02-27T19:59:46.100333Z"
        },
        "trusted": true,
        "id": "FeKlVnWD-QtL",
        "outputId": "0eeaf7a9-d88b-48b8-fd7d-0ee010ea5ad4"
      },
      "execution_count": null,
      "outputs": [
        {
          "name": "stdout",
          "text": "Model: \"sequential\"\n_________________________________________________________________\n Layer (type)                Output Shape              Param #   \n=================================================================\n conv2d (Conv2D)             (None, 30, 30, 32)        896       \n                                                                 \n max_pooling2d (MaxPooling2  (None, 15, 15, 32)        0         \n D)                                                              \n                                                                 \n conv2d_1 (Conv2D)           (None, 13, 13, 64)        18496     \n                                                                 \n max_pooling2d_1 (MaxPoolin  (None, 6, 6, 64)          0         \n g2D)                                                            \n                                                                 \n conv2d_2 (Conv2D)           (None, 4, 4, 64)          36928     \n                                                                 \n flatten (Flatten)           (None, 1024)              0         \n                                                                 \n dense (Dense)               (None, 64)                65600     \n                                                                 \n dense_1 (Dense)             (None, 29)                1885      \n                                                                 \n=================================================================\nTotal params: 123805 (483.61 KB)\nTrainable params: 123805 (483.61 KB)\nNon-trainable params: 0 (0.00 Byte)\n_________________________________________________________________\n",
          "output_type": "stream"
        }
      ]
    },
    {
      "cell_type": "code",
      "source": [
        "# Train the model\n",
        "model.fit(train_generator, epochs=10, validation_data=( val_generator))\n"
      ],
      "metadata": {
        "execution": {
          "iopub.status.busy": "2024-02-27T19:59:53.099831Z",
          "iopub.execute_input": "2024-02-27T19:59:53.100239Z",
          "iopub.status.idle": "2024-02-27T20:14:07.870467Z",
          "shell.execute_reply.started": "2024-02-27T19:59:53.100212Z",
          "shell.execute_reply": "2024-02-27T20:14:07.869454Z"
        },
        "trusted": true,
        "id": "THicNT5F-QtL",
        "outputId": "4114325d-1707-4573-a2b3-41ba3ca30ca5"
      },
      "execution_count": null,
      "outputs": [
        {
          "name": "stdout",
          "text": "Epoch 1/10\n",
          "output_type": "stream"
        },
        {
          "name": "stderr",
          "text": "/opt/conda/lib/python3.10/site-packages/keras/src/preprocessing/image.py:1862: UserWarning: This ImageDataGenerator specifies `featurewise_center`, but it hasn't been fit on any training data. Fit it first by calling `.fit(numpy_data)`.\n  warnings.warn(\n/opt/conda/lib/python3.10/site-packages/keras/src/preprocessing/image.py:1872: UserWarning: This ImageDataGenerator specifies `featurewise_std_normalization`, but it hasn't been fit on any training data. Fit it first by calling `.fit(numpy_data)`.\n  warnings.warn(\nWARNING: All log messages before absl::InitializeLog() is called are written to STDERR\nI0000 00:00:1709063995.821703     129 device_compiler.h:186] Compiled cluster using XLA!  This line is logged at most once for the lifetime of the process.\n",
          "output_type": "stream"
        },
        {
          "name": "stdout",
          "text": "1575/1575 [==============================] - 89s 54ms/step - loss: 0.9357 - accuracy: 0.7162 - val_loss: 0.4379 - val_accuracy: 0.8624\nEpoch 2/10\n1575/1575 [==============================] - 84s 53ms/step - loss: 0.2955 - accuracy: 0.9055 - val_loss: 0.2805 - val_accuracy: 0.9110\nEpoch 3/10\n1575/1575 [==============================] - 84s 53ms/step - loss: 0.2092 - accuracy: 0.9335 - val_loss: 0.1910 - val_accuracy: 0.9415\nEpoch 4/10\n1575/1575 [==============================] - 84s 53ms/step - loss: 0.1644 - accuracy: 0.9474 - val_loss: 0.1967 - val_accuracy: 0.9406\nEpoch 5/10\n1575/1575 [==============================] - 85s 54ms/step - loss: 0.1365 - accuracy: 0.9569 - val_loss: 0.1479 - val_accuracy: 0.9539\nEpoch 6/10\n1575/1575 [==============================] - 86s 55ms/step - loss: 0.1170 - accuracy: 0.9633 - val_loss: 0.1488 - val_accuracy: 0.9531\nEpoch 7/10\n1575/1575 [==============================] - 86s 54ms/step - loss: 0.1051 - accuracy: 0.9661 - val_loss: 0.1174 - val_accuracy: 0.9625\nEpoch 8/10\n1575/1575 [==============================] - 86s 54ms/step - loss: 0.0933 - accuracy: 0.9713 - val_loss: 0.1075 - val_accuracy: 0.9666\nEpoch 9/10\n1575/1575 [==============================] - 86s 54ms/step - loss: 0.0856 - accuracy: 0.9731 - val_loss: 0.1025 - val_accuracy: 0.9683\nEpoch 10/10\n1575/1575 [==============================] - 86s 54ms/step - loss: 0.0835 - accuracy: 0.9749 - val_loss: 0.0993 - val_accuracy: 0.9705\n",
          "output_type": "stream"
        },
        {
          "execution_count": 10,
          "output_type": "execute_result",
          "data": {
            "text/plain": "<keras.src.callbacks.History at 0x7cfaeff09420>"
          },
          "metadata": {}
        }
      ]
    },
    {
      "cell_type": "code",
      "source": [
        "#plot the accurcy\n",
        "losses = pd.DataFrame(model.history.history)\n",
        "losses[['accuracy','val_accuracy']].plot()\n",
        "losses[['loss','val_loss']].plot()"
      ],
      "metadata": {
        "execution": {
          "iopub.status.busy": "2024-02-27T20:37:45.948132Z",
          "iopub.execute_input": "2024-02-27T20:37:45.949063Z",
          "iopub.status.idle": "2024-02-27T20:37:46.412271Z",
          "shell.execute_reply.started": "2024-02-27T20:37:45.949028Z",
          "shell.execute_reply": "2024-02-27T20:37:46.411193Z"
        },
        "trusted": true,
        "id": "OIH6gFkq-QtM",
        "outputId": "0092e850-c188-4e31-9af7-8ada3463d941"
      },
      "execution_count": null,
      "outputs": [
        {
          "execution_count": 11,
          "output_type": "execute_result",
          "data": {
            "text/plain": "<Axes: >"
          },
          "metadata": {}
        },
        {
          "output_type": "display_data",
          "data": {
            "text/plain": "<Figure size 640x480 with 1 Axes>",
            "image/png": "[encoded data removed]"
          },
          "metadata": {}
        },
        {
          "output_type": "display_data",
          "data": {
            "text/plain": "<Figure size 640x480 with 1 Axes>",
            "image/png": "[encoded data removed]"
          },
          "metadata": {}
        }
      ]
    },
    {
      "cell_type": "code",
      "source": [
        "# Save the model in HDF5 format\n",
        "model.save(\"Arabic_letters_model.h5\")"
      ],
      "metadata": {
        "execution": {
          "iopub.status.busy": "2024-02-27T21:02:13.006942Z",
          "iopub.execute_input": "2024-02-27T21:02:13.007746Z",
          "iopub.status.idle": "2024-02-27T21:02:13.042856Z",
          "shell.execute_reply.started": "2024-02-27T21:02:13.007713Z",
          "shell.execute_reply": "2024-02-27T21:02:13.041962Z"
        },
        "trusted": true,
        "id": "ht_aGnou-QtM",
        "outputId": "4b11d95b-87eb-4cb2-f693-f99f917d44b0"
      },
      "execution_count": null,
      "outputs": [
        {
          "name": "stderr",
          "text": "/opt/conda/lib/python3.10/site-packages/keras/src/engine/training.py:3103: UserWarning: You are saving your model as an HDF5 file via `model.save()`. This file format is considered legacy. We recommend using instead the native Keras format, e.g. `model.save('my_model.keras')`.\n  saving_api.save_model(\n",
          "output_type": "stream"
        }
      ]
    },
    {
      "cell_type": "code",
      "source": [
        "# Save the model in HDF5 format\n",
        "model.save(\"/kaggle/working/Arabic_letters_model.h5\")"
      ],
      "metadata": {
        "execution": {
          "iopub.status.busy": "2024-02-27T21:06:34.226357Z",
          "iopub.execute_input": "2024-02-27T21:06:34.226804Z",
          "iopub.status.idle": "2024-02-27T21:06:34.261407Z",
          "shell.execute_reply.started": "2024-02-27T21:06:34.226778Z",
          "shell.execute_reply": "2024-02-27T21:06:34.260645Z"
        },
        "trusted": true,
        "id": "MJqdxzRE-QtM"
      },
      "execution_count": null,
      "outputs": []
    },
    {
      "cell_type": "markdown",
      "source": [
        "# pickel and doweload the model"
      ],
      "metadata": {
        "id": "Id-jbwtV-QtM"
      }
    },
    {
      "cell_type": "code",
      "source": [
        "# Define the filename for saving the model\n",
        "filename = '/kaggle/working/Arabic_letters_model_2.sav'\n",
        "\n",
        "# Save the model using pickle.dump\n",
        "pickle.dump(model, open(filename, 'wb'))\n"
      ],
      "metadata": {
        "execution": {
          "iopub.status.busy": "2024-02-23T13:32:04.330293Z",
          "iopub.status.idle": "2024-02-23T13:32:04.330664Z",
          "shell.execute_reply.started": "2024-02-23T13:32:04.330498Z",
          "shell.execute_reply": "2024-02-23T13:32:04.330512Z"
        },
        "trusted": true,
        "id": "ElhiZxGO-QtM"
      },
      "execution_count": null,
      "outputs": []
    }
  ]
}